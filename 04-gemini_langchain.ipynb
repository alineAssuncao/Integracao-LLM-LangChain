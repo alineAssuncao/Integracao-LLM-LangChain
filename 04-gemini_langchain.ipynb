{
 "cells": [
  {
   "cell_type": "code",
   "execution_count": null,
   "id": "d2de5911",
   "metadata": {},
   "outputs": [],
   "source": [
    "from dotenv import load_dotenv, find_dotenv\n",
    "load_dotenv(find_dotenv())\n",
    "import os\n",
    "api_key = os.environ.get(\"GEMINI_API_KEY\")"
   ]
  },
  {
   "cell_type": "code",
   "execution_count": null,
   "id": "3bfb66a5",
   "metadata": {},
   "outputs": [],
   "source": [
    "from langchain_google_genai import ChatGoogleGenerativeAI\n",
    "\n",
    "chat = ChatGoogleGenerativeAI(model=\"gemini-1.5-flash\", \n",
    "                              temperature=0,\n",
    "                              api_key=api_key)"
   ]
  },
  {
   "cell_type": "code",
   "execution_count": null,
   "id": "8fbc970b",
   "metadata": {},
   "outputs": [],
   "source": [
    "mensagens = [\n",
    "    (\"system\", \"Você é um assistente que atua como tradutor de português para espanhol. Traduza a seguinte frase\"),\n",
    "    (\"human\", \"Aprender sobre automação, análise de dados e inteligência artificial é importante\")\n",
    "]\n",
    "\n",
    "response = chat.invoke(mensagens)\n",
    "print(response.content)"
   ]
  },
  {
   "cell_type": "markdown",
   "id": "73d13e3c",
   "metadata": {},
   "source": [
    "## Stream"
   ]
  },
  {
   "cell_type": "code",
   "execution_count": null,
   "id": "1049c524",
   "metadata": {},
   "outputs": [],
   "source": [
    "mensagens = [\n",
    "    (\"system\", \"VOcê é um assistente que fala muito\"),\n",
    "    (\"human\", \"Olá\")\n",
    "]\n",
    "\n",
    "stream = chat.stream(mensagens)\n",
    "\n",
    "for chunck in stream:\n",
    "    print(chunck.content, end=\"\", flush=True)"
   ]
  }
 ],
 "metadata": {
  "kernelspec": {
   "display_name": ".venv (3.13.7)",
   "language": "python",
   "name": "python3"
  },
  "language_info": {
   "codemirror_mode": {
    "name": "ipython",
    "version": 3
   },
   "file_extension": ".py",
   "mimetype": "text/x-python",
   "name": "python",
   "nbconvert_exporter": "python",
   "pygments_lexer": "ipython3",
   "version": "3.13.7"
  }
 },
 "nbformat": 4,
 "nbformat_minor": 5
}
