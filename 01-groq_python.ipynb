{
 "cells": [
  {
   "cell_type": "code",
   "execution_count": null,
   "id": "1a6d0f48",
   "metadata": {},
   "outputs": [],
   "source": [
    "from dotenv import load_dotenv, find_dotenv\n",
    "load_dotenv(find_dotenv())"
   ]
  },
  {
   "cell_type": "code",
   "execution_count": null,
   "id": "20e376d3",
   "metadata": {},
   "outputs": [],
   "source": [
    "from groq import Groq\n",
    "client = Groq()"
   ]
  },
  {
   "cell_type": "code",
   "execution_count": null,
   "id": "cc427d0d",
   "metadata": {},
   "outputs": [],
   "source": [
    "mensagens = [\n",
    "    {\n",
    "        \"role\": \"user\", \n",
    "        \"content\": \"Explique a diferença entre llm e langchain. Responda em portugês\"\n",
    "    }\n",
    "]\n",
    "\n",
    "response = client.chat.completions.create(\n",
    "    model=\"llama3-8b-8192\",\n",
    "    messages=mensagens\n",
    ")\n",
    "\n",
    "response"
   ]
  },
  {
   "cell_type": "code",
   "execution_count": null,
   "id": "1822957c",
   "metadata": {},
   "outputs": [],
   "source": [
    "print(response.choices[0].message.content)"
   ]
  },
  {
   "cell_type": "markdown",
   "id": "9b797f76",
   "metadata": {},
   "source": [
    "## Stream"
   ]
  },
  {
   "cell_type": "code",
   "execution_count": null,
   "id": "ac03e7d6",
   "metadata": {},
   "outputs": [],
   "source": [
    "mensagens = [\n",
    "    {\n",
    "        \"role\": \"user\", \n",
    "        \"content\": \"Explique a diferença entre llm e langchain. Responda em portugês\"\n",
    "    }\n",
    "]\n",
    "\n",
    "stream = client.chat.completions.create(\n",
    "    model=\"llama3-8b-8192\",\n",
    "    messages=mensagens,\n",
    "    stream=True\n",
    ")\n",
    "\n",
    "for chunk in stream:\n",
    "    print(chunk.choices[0].delta.content, end='', flush=True)"
   ]
  },
  {
   "cell_type": "markdown",
   "id": "c0aa5af7",
   "metadata": {},
   "source": [
    "## Transcrição de Áudio"
   ]
  },
  {
   "cell_type": "code",
   "execution_count": null,
   "id": "f7dc0f92",
   "metadata": {},
   "outputs": [],
   "source": [
    "import textwrap\n",
    "\n",
    "def formmat_text(response):\n",
    "    text = response.text\n",
    "    text_formatted = textwrap.fill(text, width=80)\n",
    "    print(text_formatted)"
   ]
  },
  {
   "cell_type": "code",
   "execution_count": null,
   "id": "db3c905b",
   "metadata": {},
   "outputs": [],
   "source": [
    "from groq import Groq\n",
    "\n",
    "client = Groq()\n",
    "\n",
    "arquivo = \"files/curso.mp3\"\n",
    "\n",
    "with open(arquivo, \"rb\") as audio:\n",
    "    transcricao = client.audio.transcriptions.create(\n",
    "        file=(arquivo, audio.read()),\n",
    "        model=\"whisper-large-v3\",\n",
    "        response_format=\"json\",\n",
    "        language=\"pt\",\n",
    "        prompt=\"Este é um curso de Hugging Face que usa aplicação com Gradio.\"\n",
    "    )\n",
    "\n",
    "    formmat_text(transcricao)"
   ]
  },
  {
   "cell_type": "markdown",
   "id": "9300b28f",
   "metadata": {},
   "source": [
    "## Vision"
   ]
  },
  {
   "cell_type": "code",
   "execution_count": null,
   "id": "9df65f1b",
   "metadata": {},
   "outputs": [],
   "source": [
    "import textwrap\n",
    "\n",
    "def formmat_text(response):\n",
    "    text = response.content.decode(\"utf-8\")\n",
    "    text_formatted = textwrap.fill(text, width=80)\n",
    "    print(text_formatted)"
   ]
  },
  {
   "cell_type": "code",
   "execution_count": null,
   "id": "52819e3a",
   "metadata": {},
   "outputs": [],
   "source": [
    "completion = client.chat.completions.create(\n",
    "    model=\"llava-1.5-13b\",  # modelo vision suportado\n",
    "    messages=[\n",
    "        {\n",
    "            \"role\": \"user\", \n",
    "            \"content\": [\n",
    "                {\"type\": \"text\", \"text\": \"O que há nessa imagem?\"},\n",
    "                {\"type\": \"image_url\", \"image_url\": {\n",
    "                    \"url\": \"https://www.istockphoto.com/br/foto/maresias-gm533236170-94418093\"\n",
    "                }}\n",
    "            ]\n",
    "        }\n",
    "    ],\n",
    "    temperature=1,\n",
    "    max_tokens=1024,\n",
    "    top_p=1,\n",
    "    stream=False,\n",
    "    stop=None\n",
    ")"
   ]
  },
  {
   "cell_type": "code",
   "execution_count": null,
   "id": "e247089f",
   "metadata": {},
   "outputs": [],
   "source": [
    "formmat_text(completion.choices[0].message)"
   ]
  }
 ],
 "metadata": {
  "kernelspec": {
   "display_name": ".venv (3.13.7)",
   "language": "python",
   "name": "python3"
  },
  "language_info": {
   "codemirror_mode": {
    "name": "ipython",
    "version": 3
   },
   "file_extension": ".py",
   "mimetype": "text/x-python",
   "name": "python",
   "nbconvert_exporter": "python",
   "pygments_lexer": "ipython3",
   "version": "3.13.7"
  }
 },
 "nbformat": 4,
 "nbformat_minor": 5
}
