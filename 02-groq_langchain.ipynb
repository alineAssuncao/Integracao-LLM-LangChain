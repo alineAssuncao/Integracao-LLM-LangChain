{
 "cells": [
  {
   "cell_type": "code",
   "execution_count": null,
   "id": "d9e13001",
   "metadata": {},
   "outputs": [],
   "source": [
    "from dotenv import find_dotenv, load_dotenv\n",
    "\n",
    "load_dotenv(find_dotenv())"
   ]
  },
  {
   "cell_type": "code",
   "execution_count": null,
   "id": "f3dcdf1e",
   "metadata": {},
   "outputs": [],
   "source": [
    "from langchain_groq import ChatGroq\n",
    "\n",
    "chat = ChatGroq(\n",
    "    temperature=0,\n",
    "    model=\"llama3-8b-8192\"\n",
    ")\n",
    "\n",
    "response = chat.invoke(\"Oi! Responda em português!\")\n",
    "print(response.content)"
   ]
  },
  {
   "cell_type": "code",
   "execution_count": null,
   "id": "28accbd1",
   "metadata": {},
   "outputs": [],
   "source": [
    "import textwrap\n",
    "\n",
    "def format_text(response):\n",
    "    text = response\n",
    "    text_formatted = textwrap.fill(text, width=100)\n",
    "    print(text_formatted)"
   ]
  },
  {
   "cell_type": "code",
   "execution_count": null,
   "id": "d8220a10",
   "metadata": {},
   "outputs": [],
   "source": [
    "from langchain_core.prompts import ChatPromptTemplate\n",
    "\n",
    "template = ChatPromptTemplate.from_messages([\n",
    "    (\"system\", \"Você é um assistente que sempre fala no sentido figurado\"),\n",
    "    (\"human\", \"{input}\")\n",
    "])\n",
    "\n",
    "chain = template | chat\n",
    "response = chain.invoke({\"input\": \"O que é o mar?\"})\n",
    "format_text(response.content)"
   ]
  },
  {
   "cell_type": "markdown",
   "id": "37e3986f",
   "metadata": {},
   "source": [
    "## Stream"
   ]
  },
  {
   "cell_type": "code",
   "execution_count": null,
   "id": "88e79905",
   "metadata": {},
   "outputs": [],
   "source": [
    "stream = chain.stream({\"input\": \"O que é viver?\"})\n",
    "for chunck in stream:\n",
    "    print(chunck.content, end=\"\", flush=True)"
   ]
  },
  {
   "cell_type": "code",
   "execution_count": null,
   "id": "7847fbbf",
   "metadata": {},
   "outputs": [],
   "source": [
    "from typing import Optional\n",
    "from langchain_core.tools import tool\n",
    "from datetime import datetime\n",
    "\n",
    "@tool\n",
    "def hora_atual(formato: Optional[str] = \"%H:%M:%S\"):\n",
    "    \"\"\"Retorna a hora atual no formato especificado\"\"\"\n",
    "    now = datetime.now()\n",
    "    return now.strftime(formato)\n",
    "\n",
    "chat_tool = chat.bind_tools([hora_atual], tool_choice=\"auto\")\n",
    "response = chat_tool.invoke(\"Qual é a hora agora?\")"
   ]
  },
  {
   "cell_type": "code",
   "execution_count": null,
   "id": "78670fc8",
   "metadata": {},
   "outputs": [],
   "source": [
    "response.tool_calls"
   ]
  }
 ],
 "metadata": {
  "kernelspec": {
   "display_name": ".venv (3.13.7)",
   "language": "python",
   "name": "python3"
  },
  "language_info": {
   "codemirror_mode": {
    "name": "ipython",
    "version": 3
   },
   "file_extension": ".py",
   "mimetype": "text/x-python",
   "name": "python",
   "nbconvert_exporter": "python",
   "pygments_lexer": "ipython3",
   "version": "3.13.7"
  }
 },
 "nbformat": 4,
 "nbformat_minor": 5
}
