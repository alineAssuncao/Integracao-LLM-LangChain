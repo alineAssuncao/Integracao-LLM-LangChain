{
 "cells": [
  {
   "cell_type": "code",
   "execution_count": null,
   "id": "5e9d7353",
   "metadata": {},
   "outputs": [],
   "source": [
    "from dotenv import load_dotenv, find_dotenv\n",
    "load_dotenv(find_dotenv())"
   ]
  },
  {
   "cell_type": "code",
   "execution_count": null,
   "id": "10b722cd",
   "metadata": {},
   "outputs": [],
   "source": [
    "import os\n",
    "api_key = os.environ.get(\"GEMINI_API_KEY\")"
   ]
  },
  {
   "cell_type": "code",
   "execution_count": null,
   "id": "dd6d4872",
   "metadata": {},
   "outputs": [],
   "source": [
    "import google.generativeai as genai\n",
    "genai.configure(api_key=api_key)"
   ]
  },
  {
   "cell_type": "code",
   "execution_count": null,
   "id": "d6332ad0",
   "metadata": {},
   "outputs": [],
   "source": [
    "model = genai.GenerativeModel(\"gemini-1.5-flash\")\n",
    "response = model.generate_content(\"Qual dica você recomenda para ter uma vida boa?\")"
   ]
  },
  {
   "cell_type": "code",
   "execution_count": null,
   "id": "d0592758",
   "metadata": {},
   "outputs": [],
   "source": [
    "response"
   ]
  },
  {
   "cell_type": "code",
   "execution_count": null,
   "id": "a6d7d186",
   "metadata": {},
   "outputs": [],
   "source": [
    "import textwrap\n",
    "\n",
    "def format_text(response):\n",
    "    text = response\n",
    "    text_formatted = textwrap.fill(text, width=100)\n",
    "    print(text_formatted)"
   ]
  },
  {
   "cell_type": "code",
   "execution_count": null,
   "id": "d19afea7",
   "metadata": {},
   "outputs": [],
   "source": [
    "format_text(response.text)"
   ]
  },
  {
   "cell_type": "markdown",
   "id": "fd432292",
   "metadata": {},
   "source": [
    "## Stream"
   ]
  },
  {
   "cell_type": "code",
   "execution_count": null,
   "id": "831e84b5",
   "metadata": {},
   "outputs": [],
   "source": [
    "stream = model.generate_content(\"QUal o sentido da felicidade?\", stream=True)\n",
    "\n",
    "complete_response = \"\"\n",
    "for chunck in stream:\n",
    "    print(chunck.text, end=\"\", flush=True)\n",
    "    complete_response += chunck.text"
   ]
  },
  {
   "cell_type": "markdown",
   "id": "4cbba340",
   "metadata": {},
   "source": [
    "## Imagens"
   ]
  },
  {
   "cell_type": "code",
   "execution_count": null,
   "id": "3b1d6bd5",
   "metadata": {},
   "outputs": [],
   "source": [
    "import httpx\n",
    "import os\n",
    "import base64\n",
    "\n",
    "model = genai.GenerativeModel(model_name=\"gemini-1.5-pro\")\n",
    "image_path = \"https://upload.wikimedia.org/wikipedia/commons/thumb/8/87/Palace_of_Westminster_from_the_dome_on_Methodist_Central_Hall.jpg/2560px-Palace_of_Westminster_from_the_dome_on_Methodist_Central_Hall.jpg\"\n",
    "image = httpx.get(image_path)\n",
    "\n",
    "prompt = \"Descreva a imagem para mim\"\n",
    "response = model.generate_content([\n",
    "    {\"mime_type\": \"image/jpeg\",\n",
    "     \"data\": base64.b64encode(image.content).decode(\"utf-8\")},\n",
    "    prompt\n",
    "])\n",
    "print(response.text)"
   ]
  },
  {
   "cell_type": "markdown",
   "id": "2e8136c4",
   "metadata": {},
   "source": [
    "## Histórico da Conversa"
   ]
  },
  {
   "cell_type": "code",
   "execution_count": null,
   "id": "5d97022e",
   "metadata": {},
   "outputs": [],
   "source": [
    "model = genai.GenerativeModel(\"gemini-1.5-flash\")\n",
    "chat = model.start_chat(history=[])\n",
    "response = chat.send_message(\"Explique o que é LangChain para uma criança\")\n",
    "format_text(response.text)"
   ]
  },
  {
   "cell_type": "code",
   "execution_count": null,
   "id": "68a6756a",
   "metadata": {},
   "outputs": [],
   "source": [
    "chat.history"
   ]
  },
  {
   "cell_type": "code",
   "execution_count": null,
   "id": "8d7c9eaa",
   "metadata": {},
   "outputs": [],
   "source": [
    "response = chat.send_message(\"Agora explique para um adulto\")\n",
    "format_text(response.text)"
   ]
  },
  {
   "cell_type": "code",
   "execution_count": null,
   "id": "e72975ea",
   "metadata": {},
   "outputs": [],
   "source": [
    "chat.history"
   ]
  },
  {
   "cell_type": "code",
   "execution_count": null,
   "id": "e6b7fde9",
   "metadata": {},
   "outputs": [],
   "source": []
  }
 ],
 "metadata": {
  "kernelspec": {
   "display_name": ".venv (3.13.7)",
   "language": "python",
   "name": "python3"
  },
  "language_info": {
   "codemirror_mode": {
    "name": "ipython",
    "version": 3
   },
   "file_extension": ".py",
   "mimetype": "text/x-python",
   "name": "python",
   "nbconvert_exporter": "python",
   "pygments_lexer": "ipython3",
   "version": "3.13.7"
  }
 },
 "nbformat": 4,
 "nbformat_minor": 5
}
