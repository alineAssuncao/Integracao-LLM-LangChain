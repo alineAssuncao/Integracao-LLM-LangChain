{
 "cells": [
  {
   "cell_type": "code",
   "execution_count": null,
   "id": "93304670",
   "metadata": {},
   "outputs": [],
   "source": [
    "from dotenv import load_dotenv, find_dotenv\n",
    "load_dotenv(find_dotenv())"
   ]
  },
  {
   "cell_type": "code",
   "execution_count": null,
   "id": "a15c48ad",
   "metadata": {},
   "outputs": [],
   "source": [
    "from langchain_mistralai import ChatMistralAI\n",
    "chat = ChatMistralAI()"
   ]
  },
  {
   "cell_type": "code",
   "execution_count": null,
   "id": "ee1f9fcb",
   "metadata": {},
   "outputs": [],
   "source": [
    "response = chat.invoke(\"Olá, você veio de onde?\")\n",
    "print(response)"
   ]
  },
  {
   "cell_type": "code",
   "execution_count": null,
   "id": "0617bd2c",
   "metadata": {},
   "outputs": [],
   "source": [
    "mensagens = [\n",
    "    (\"system\", \"Você é especialista em traduzir do português para o alemão. Traduza a frase:\"),\n",
    "    (\"user\", \"Hoje é um bom dia para estudar\")\n",
    "]\n",
    "response = chat.invoke(mensagens)\n",
    "print(response.content)"
   ]
  },
  {
   "cell_type": "code",
   "execution_count": null,
   "id": "88ddfa7a",
   "metadata": {},
   "outputs": [],
   "source": [
    "from langchain_core.prompts import ChatPromptTemplate\n",
    "\n",
    "template = ChatPromptTemplate.from_messages([\n",
    "    (\"system\", \"Você é um contador de anedotas em português\"),\n",
    "    (\"user\", \"Crie uma história sobre: {anedota}\")\n",
    "])\n",
    "\n",
    "chain = template | chat\n",
    "response = chain.invoke({\"anedota\": \"formiga e cigarra\"})\n",
    "print(response.content)"
   ]
  },
  {
   "cell_type": "code",
   "execution_count": null,
   "id": "2a7e8f3d",
   "metadata": {},
   "outputs": [],
   "source": [
    "from langchain_core.prompts import ChatPromptTemplate\n",
    "\n",
    "template = ChatPromptTemplate.from_messages([\n",
    "    (\"system\", \"Você é um contador de anedotas em português\"),\n",
    "    (\"user\", \"Crie uma história sobre: {anedota}\")\n",
    "])\n",
    "\n",
    "chain = template | chat\n",
    "stream = chain.stream({\"anedota\": \"formiga e cigarra\"})\n",
    "for chunck in stream:\n",
    "    print(chunck.content, end=\"\", flush=True)"
   ]
  },
  {
   "cell_type": "code",
   "execution_count": null,
   "id": "14ec1f7e",
   "metadata": {},
   "outputs": [],
   "source": []
  }
 ],
 "metadata": {
  "kernelspec": {
   "display_name": ".venv (3.13.7)",
   "language": "python",
   "name": "python3"
  },
  "language_info": {
   "codemirror_mode": {
    "name": "ipython",
    "version": 3
   },
   "file_extension": ".py",
   "mimetype": "text/x-python",
   "name": "python",
   "nbconvert_exporter": "python",
   "pygments_lexer": "ipython3",
   "version": "3.13.7"
  }
 },
 "nbformat": 4,
 "nbformat_minor": 5
}
