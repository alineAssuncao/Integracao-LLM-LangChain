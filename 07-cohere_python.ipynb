{
 "cells": [
  {
   "cell_type": "code",
   "execution_count": null,
   "id": "adc98ce1",
   "metadata": {},
   "outputs": [],
   "source": [
    "from dotenv import load_dotenv, find_dotenv\n",
    "load_dotenv(find_dotenv())\n",
    "import os\n",
    "api_key = os.environ.get(\"COHERE_API_KEY\")"
   ]
  },
  {
   "cell_type": "code",
   "execution_count": null,
   "id": "a0ec602c",
   "metadata": {},
   "outputs": [],
   "source": [
    "import cohere\n",
    "client = cohere.Client(api_key=api_key)"
   ]
  },
  {
   "cell_type": "code",
   "execution_count": null,
   "id": "c0df4447",
   "metadata": {},
   "outputs": [],
   "source": [
    "model = \"command-r-plus\"\n",
    "response = client.chat(\n",
    "    model=model,\n",
    "    message=\"Oi. Quem é você?\"\n",
    ")\n",
    "print(response.text)"
   ]
  },
  {
   "cell_type": "code",
   "execution_count": null,
   "id": "57f47669",
   "metadata": {},
   "outputs": [],
   "source": [
    "stream = client.chat_stream(\n",
    "    model=model,\n",
    "    message=\"Oi. Quem é você?\"\n",
    ")\n",
    "for chunck in stream:\n",
    "    if chunck.event_type == \"text-generation\":\n",
    "        print(chunck.text, end=\"\", flush=True)"
   ]
  },
  {
   "cell_type": "code",
   "execution_count": null,
   "id": "19aeae64",
   "metadata": {},
   "outputs": [],
   "source": [
    "historic = [\n",
    "    {\"role\":\"USER\", \"text\":\"Oi, eu sou Aline!\"},\n",
    "    {\"role\":\"CHATBOT\", \"text\":\"Olá, Aline! Como posso lhe ajudar?\"}\n",
    "]\n",
    "stream = client.chat_stream(\n",
    "    model=model,\n",
    "    message=\"Qual meu nome?\",\n",
    "    chat_history=historic\n",
    ")\n",
    "for chunck in stream:\n",
    "    if chunck.event_type == \"text-generation\":\n",
    "        print(chunck.text, end=\"\",flush=True)"
   ]
  },
  {
   "cell_type": "code",
   "execution_count": null,
   "id": "98e67dd8",
   "metadata": {},
   "outputs": [],
   "source": []
  }
 ],
 "metadata": {
  "kernelspec": {
   "display_name": ".venv (3.13.7)",
   "language": "python",
   "name": "python3"
  },
  "language_info": {
   "codemirror_mode": {
    "name": "ipython",
    "version": 3
   },
   "file_extension": ".py",
   "mimetype": "text/x-python",
   "name": "python",
   "nbconvert_exporter": "python",
   "pygments_lexer": "ipython3",
   "version": "3.13.7"
  }
 },
 "nbformat": 4,
 "nbformat_minor": 5
}
